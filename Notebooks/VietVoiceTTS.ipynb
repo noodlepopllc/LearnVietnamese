{
 "cells": [
  {
   "cell_type": "markdown",
   "id": "e251c760-5b2c-4572-86ba-b49a873bf4b3",
   "metadata": {},
   "source": [
    "# Clone the repository\n",
    "!git clone https://github.com/nguyenvulebinh/VietVoice-TTS.git\n",
    "%cd VietVoice-TTS\n",
    "\n",
    "# Install with GPU support (recommended if you have CUDA)\n",
    "!pip install -e \".[gpu]\""
   ]
  },
  {
   "cell_type": "code",
   "execution_count": 2,
   "id": "16c6298f-ff03-4440-be68-0bd3008fcfe8",
   "metadata": {},
   "outputs": [
    {
     "name": "stdout",
     "output_type": "stream",
     "text": [
      "Using cached model: C:\\Users\\drift\\.cache\\vietvoicetts\\model-bin.pt\n",
      "Using cached model: C:\\Users\\drift\\.cache\\vietvoicetts\\model-bin.pt\n",
      "Selected sample #8 with gender: female, group: audiobook, area: southern, emotion: neutral\n",
      "Using cached model: C:\\Users\\drift\\.cache\\vietvoicetts\\model-bin.pt\n",
      "Single chunk: total estimated duration 11.1s (ref: 5.4s + target: 5.7s)\n",
      "Chunk 1/1: 71 chars, total duration 11.1s (ref: 5.4s + target: 5.7s). Content: Xin chào các bạn! Đây là ví dụ cơ bản về tổng hợp giọng nói tiếng Việt.\n",
      "Generating speech for chunk 1/1...\n"
     ]
    },
    {
     "name": "stderr",
     "output_type": "stream",
     "text": [
      "Processing: 100%|████████████████████████████████████████████████████████████████████████████████████████████████████████████████████████| 31/31 [00:06<00:00,  4.61it/s]\n"
     ]
    },
    {
     "name": "stdout",
     "output_type": "stream",
     "text": [
      "Audio saved to: greeting.wav\n",
      "Generated audio: 8.56 seconds\n"
     ]
    }
   ],
   "source": [
    "from vietvoicetts import synthesize\n",
    "\n",
    "# Simple synthesis\n",
    "duration = synthesize(\"Xin chào các bạn! Đây là ví dụ cơ bản về tổng hợp giọng nói tiếng Việt.\", \"greeting.wav\",gender=\"female\", area=\"southern\")\n",
    "print(f\"Generated audio: {duration:.2f} seconds\")"
   ]
  },
  {
   "cell_type": "code",
   "execution_count": null,
   "id": "e6842763-5122-40cd-aea7-111add726518",
   "metadata": {},
   "outputs": [],
   "source": []
  }
 ],
 "metadata": {
  "kernelspec": {
   "display_name": "Python 3 (ipykernel)",
   "language": "python",
   "name": "python3"
  },
  "language_info": {
   "codemirror_mode": {
    "name": "ipython",
    "version": 3
   },
   "file_extension": ".py",
   "mimetype": "text/x-python",
   "name": "python",
   "nbconvert_exporter": "python",
   "pygments_lexer": "ipython3",
   "version": "3.12.10"
  }
 },
 "nbformat": 4,
 "nbformat_minor": 5
}
