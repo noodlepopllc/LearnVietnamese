{
 "cells": [
  {
   "cell_type": "code",
   "execution_count": 1,
   "id": "ec27fb16-e468-4a5f-a8d1-72b0d8384fe0",
   "metadata": {},
   "outputs": [
    {
     "name": "stdout",
     "output_type": "stream",
     "text": [
      "Requirement already satisfied: transformers in d:\\vietnamese\\.venv\\lib\\site-packages (4.56.1)\n",
      "Requirement already satisfied: filelock in d:\\vietnamese\\.venv\\lib\\site-packages (from transformers) (3.13.1)\n",
      "Requirement already satisfied: huggingface-hub<1.0,>=0.34.0 in d:\\vietnamese\\.venv\\lib\\site-packages (from transformers) (0.35.0)\n",
      "Requirement already satisfied: numpy>=1.17 in d:\\vietnamese\\.venv\\lib\\site-packages (from transformers) (2.1.2)\n",
      "Requirement already satisfied: packaging>=20.0 in d:\\vietnamese\\.venv\\lib\\site-packages (from transformers) (25.0)\n",
      "Requirement already satisfied: pyyaml>=5.1 in d:\\vietnamese\\.venv\\lib\\site-packages (from transformers) (6.0.2)\n",
      "Requirement already satisfied: regex!=2019.12.17 in d:\\vietnamese\\.venv\\lib\\site-packages (from transformers) (2025.9.18)\n",
      "Requirement already satisfied: requests in d:\\vietnamese\\.venv\\lib\\site-packages (from transformers) (2.32.5)\n",
      "Requirement already satisfied: tokenizers<=0.23.0,>=0.22.0 in d:\\vietnamese\\.venv\\lib\\site-packages (from transformers) (0.22.0)\n",
      "Requirement already satisfied: safetensors>=0.4.3 in d:\\vietnamese\\.venv\\lib\\site-packages (from transformers) (0.6.2)\n",
      "Requirement already satisfied: tqdm>=4.27 in d:\\vietnamese\\.venv\\lib\\site-packages (from transformers) (4.67.1)\n",
      "Requirement already satisfied: fsspec>=2023.5.0 in d:\\vietnamese\\.venv\\lib\\site-packages (from huggingface-hub<1.0,>=0.34.0->transformers) (2024.6.1)\n",
      "Requirement already satisfied: typing-extensions>=3.7.4.3 in d:\\vietnamese\\.venv\\lib\\site-packages (from huggingface-hub<1.0,>=0.34.0->transformers) (4.15.0)\n",
      "Requirement already satisfied: colorama in d:\\vietnamese\\.venv\\lib\\site-packages (from tqdm>=4.27->transformers) (0.4.6)\n",
      "Requirement already satisfied: charset_normalizer<4,>=2 in d:\\vietnamese\\.venv\\lib\\site-packages (from requests->transformers) (3.4.3)\n",
      "Requirement already satisfied: idna<4,>=2.5 in d:\\vietnamese\\.venv\\lib\\site-packages (from requests->transformers) (3.10)\n",
      "Requirement already satisfied: urllib3<3,>=1.21.1 in d:\\vietnamese\\.venv\\lib\\site-packages (from requests->transformers) (2.5.0)\n",
      "Requirement already satisfied: certifi>=2017.4.17 in d:\\vietnamese\\.venv\\lib\\site-packages (from requests->transformers) (2025.8.3)\n",
      "Requirement already satisfied: scipy in d:\\vietnamese\\.venv\\lib\\site-packages (1.16.2)\n",
      "Requirement already satisfied: numpy<2.6,>=1.25.2 in d:\\vietnamese\\.venv\\lib\\site-packages (from scipy) (2.1.2)\n"
     ]
    }
   ],
   "source": [
    "#%pip install transformers\n",
    "#%pip install scipy"
   ]
  },
  {
   "cell_type": "code",
   "execution_count": 2,
   "id": "74b574f1-c674-41d9-bce1-45ab569a6b41",
   "metadata": {},
   "outputs": [],
   "source": [
    "import torch, scipy\n",
    "from transformers import AutoTokenizer, VitsModel\n",
    "from ipywidgets import widgets\n",
    "from IPython.display import Audio, display\n",
    "from ipywidgets import Layout\n"
   ]
  },
  {
   "cell_type": "code",
   "execution_count": 3,
   "id": "78657654-c3b4-46b2-9243-0e0f3d34a964",
   "metadata": {},
   "outputs": [],
   "source": [
    "class Lang2Wav(object):\n",
    "    def __init__(self, model):\n",
    "        self.model = VitsModel.from_pretrained(model)\n",
    "        self.tokenizer = AutoTokenizer.from_pretrained(model)\n",
    "\n",
    "    def toWav(self, text):\n",
    "        inputs = self.tokenizer(text, return_tensors=\"pt\")\n",
    "        with torch.no_grad():\n",
    "            output = self.model(**inputs).waveform\n",
    "            sample = output.numpy()[0]\n",
    "            rate = self.model.config.sampling_rate\n",
    "            return (sample, rate)\n",
    "\n",
    "    def save(self, text, filename):\n",
    "        wav = self.toWav(text)\n",
    "        scipy.io.wavfile.write(filename, rate=wav[1], data=wav[0])\n",
    "\n",
    "    def display(self,text=''):\n",
    "        self.textarea = widgets.Textarea(\n",
    "            value=text,\n",
    "            disabled=False,\n",
    "            layout=Layout(width='80%', height=\"100px\"))\n",
    "        self.button = widgets.Button(description=\"Create Sound\")\n",
    "        self.button.on_click(self.button_pressed)\n",
    "        self.output = widgets.Output(layout=Layout(width='80%', height='200px'))\n",
    "        display(self.textarea,self.button, self.output)\n",
    "\n",
    "    def button_save_pressed(self, b):\n",
    "        with self.output:\n",
    "            print(\"Saving to: \", self.savepath.value)\n",
    "            self.save(self.textarea.value, self.savepath.value)\n",
    "            print(\"Saved\")\n",
    "\n",
    "    def button_pressed(self, b):\n",
    "        with self.output:\n",
    "            wav = self.toWav(self.textarea.value)\n",
    "            audio = Audio(data=wav[0], rate = wav[1], autoplay=False)\n",
    "            self.output.clear_output() # Clear previous output\n",
    "            self.savepath = widgets.Text(\n",
    "                value='lang.wav',\n",
    "                placeholder='',\n",
    "                description='Save File Path:',\n",
    "                disabled=False   \n",
    "            )\n",
    "            self.button_save = widgets.Button(description=\"Save\")\n",
    "            self.button_save.on_click(self.button_save_pressed)\n",
    "            display(audio, self.savepath, self.button_save)\n",
    "        \n",
    "\n",
    "    "
   ]
  },
  {
   "cell_type": "code",
   "execution_count": 4,
   "id": "a5b22164-4117-47ad-a643-2f46837f8570",
   "metadata": {},
   "outputs": [
    {
     "data": {
      "application/vnd.jupyter.widget-view+json": {
       "model_id": "c84362a75108428d8719b83ae54d2f46",
       "version_major": 2,
       "version_minor": 0
      },
      "text/plain": [
       "Textarea(value='Hello, how are you today?', layout=Layout(height='100px', width='80%'))"
      ]
     },
     "metadata": {},
     "output_type": "display_data"
    },
    {
     "data": {
      "application/vnd.jupyter.widget-view+json": {
       "model_id": "36012a1eb8404a29be46777c82ed1731",
       "version_major": 2,
       "version_minor": 0
      },
      "text/plain": [
       "Button(description='Create Sound', style=ButtonStyle())"
      ]
     },
     "metadata": {},
     "output_type": "display_data"
    },
    {
     "data": {
      "application/vnd.jupyter.widget-view+json": {
       "model_id": "f925a4202a2a4442b7fcfb39445177e7",
       "version_major": 2,
       "version_minor": 0
      },
      "text/plain": [
       "Output(layout=Layout(height='200px', width='80%'))"
      ]
     },
     "metadata": {},
     "output_type": "display_data"
    }
   ],
   "source": [
    "towav = Lang2Wav(\"facebook/mms-tts-eng\")\n",
    "towav.display(\"Hello, how are you today?\")"
   ]
  },
  {
   "cell_type": "code",
   "execution_count": 5,
   "id": "db45d927-140a-495f-9d7e-3dac9a94b001",
   "metadata": {},
   "outputs": [
    {
     "data": {
      "application/vnd.jupyter.widget-view+json": {
       "model_id": "8777cddefe9446c7a760cfead58f3b7f",
       "version_major": 2,
       "version_minor": 0
      },
      "text/plain": [
       "Textarea(value='VietAI là tổ chức phi lợi nhuận với sứ mệnh ươm mầm tài năng về trí tuệ nhân tạo và xây dựng m…"
      ]
     },
     "metadata": {},
     "output_type": "display_data"
    },
    {
     "data": {
      "application/vnd.jupyter.widget-view+json": {
       "model_id": "4832a245a93c41c38e4396b9e35e2dc6",
       "version_major": 2,
       "version_minor": 0
      },
      "text/plain": [
       "Button(description='Create Sound', style=ButtonStyle())"
      ]
     },
     "metadata": {},
     "output_type": "display_data"
    },
    {
     "data": {
      "application/vnd.jupyter.widget-view+json": {
       "model_id": "b9b9ed3e8dc14efdb50184349a608c77",
       "version_major": 2,
       "version_minor": 0
      },
      "text/plain": [
       "Output(layout=Layout(height='200px', width='80%'))"
      ]
     },
     "metadata": {},
     "output_type": "display_data"
    }
   ],
   "source": [
    "towav = Lang2Wav(\"facebook/mms-tts-vie\")\n",
    "towav.display(\"VietAI là tổ chức phi lợi nhuận với sứ mệnh ươm mầm tài năng về trí tuệ nhân tạo và xây dựng một cộng đồng các chuyên gia trong lĩnh vực trí tuệ nhân tạo đẳng cấp quốc tế tại Việt Nam.\")"
   ]
  }
 ],
 "metadata": {
  "kernelspec": {
   "display_name": "Python 3 (ipykernel)",
   "language": "python",
   "name": "python3"
  },
  "language_info": {
   "codemirror_mode": {
    "name": "ipython",
    "version": 3
   },
   "file_extension": ".py",
   "mimetype": "text/x-python",
   "name": "python",
   "nbconvert_exporter": "python",
   "pygments_lexer": "ipython3",
   "version": "3.12.10"
  }
 },
 "nbformat": 4,
 "nbformat_minor": 5
}
