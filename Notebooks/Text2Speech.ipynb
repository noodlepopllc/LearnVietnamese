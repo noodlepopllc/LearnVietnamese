{
 "cells": [
  {
   "cell_type": "code",
   "execution_count": 1,
   "id": "74b574f1-c674-41d9-bce1-45ab569a6b41",
   "metadata": {},
   "outputs": [],
   "source": [
    "import torch, scipy, os\n",
    "from transformers import AutoTokenizer, VitsModel\n",
    "from ipywidgets import widgets, Layout\n",
    "from IPython.display import Audio, display"
   ]
  },
  {
   "cell_type": "code",
   "execution_count": 2,
   "id": "78657654-c3b4-46b2-9243-0e0f3d34a964",
   "metadata": {},
   "outputs": [],
   "source": [
    "class Lang2Wav(object):\n",
    "    def __init__(self, model):\n",
    "        self.model = VitsModel.from_pretrained(model)\n",
    "        self.tokenizer = AutoTokenizer.from_pretrained(model)\n",
    "\n",
    "    def toWav(self, text):\n",
    "        inputs = self.tokenizer(text, return_tensors=\"pt\")\n",
    "        with torch.no_grad():\n",
    "            output = self.model(**inputs).waveform\n",
    "            sample = output.numpy()[0]\n",
    "            rate = self.model.config.sampling_rate\n",
    "            return (sample, rate)\n",
    "\n",
    "    def save(self, text, filename, folder=\"./audio\"):\n",
    "        if not os.path.exists(folder):\n",
    "            os.makedirs(folder)\n",
    "        wav = self.toWav(text)\n",
    "        scipy.io.wavfile.write(f\"{folder}/{filename}\", rate=wav[1], data=wav[0])\n",
    "\n",
    "    def display(self,text=''):\n",
    "        self.textarea = widgets.Textarea(\n",
    "            value=text,\n",
    "            disabled=False,\n",
    "            layout=Layout(width='80%', height=\"100px\"))\n",
    "        self.button = widgets.Button(description=\"Create Sound\")\n",
    "        self.button.on_click(self.button_pressed)\n",
    "        self.output = widgets.Output(layout=Layout(width='80%', height='200px'))\n",
    "        display(self.textarea,self.button, self.output)\n",
    "\n",
    "    def button_save_pressed(self, b):\n",
    "        with self.output:\n",
    "            print(\"Saving to: \", self.savepath.value)\n",
    "            self.save(self.textarea.value, self.savepath.value)\n",
    "            print(\"Saved\")\n",
    "\n",
    "    def button_pressed(self, b):\n",
    "        with self.output:\n",
    "            wav = self.toWav(self.textarea.value)\n",
    "            audio = Audio(data=wav[0], rate = wav[1], autoplay=False)\n",
    "            self.output.clear_output() # Clear previous output\n",
    "            self.savepath = widgets.Text(\n",
    "                value='lang.wav',\n",
    "                placeholder='',\n",
    "                description='Save File Path:',\n",
    "                disabled=False   \n",
    "            )\n",
    "            self.button_save = widgets.Button(description=\"Save\")\n",
    "            self.button_save.on_click(self.button_save_pressed)\n",
    "            display(audio, self.savepath, self.button_save)"
   ]
  },
  {
   "cell_type": "code",
   "execution_count": 3,
   "id": "a5b22164-4117-47ad-a643-2f46837f8570",
   "metadata": {},
   "outputs": [
    {
     "data": {
      "application/vnd.jupyter.widget-view+json": {
       "model_id": "ab223243342f4140a558557d44a14419",
       "version_major": 2,
       "version_minor": 0
      },
      "text/plain": [
       "Textarea(value='Hello, how are you today?', layout=Layout(height='100px', width='80%'))"
      ]
     },
     "metadata": {},
     "output_type": "display_data"
    },
    {
     "data": {
      "application/vnd.jupyter.widget-view+json": {
       "model_id": "1e54a1687c244a11ba1d82fe84f3f181",
       "version_major": 2,
       "version_minor": 0
      },
      "text/plain": [
       "Button(description='Create Sound', style=ButtonStyle())"
      ]
     },
     "metadata": {},
     "output_type": "display_data"
    },
    {
     "data": {
      "application/vnd.jupyter.widget-view+json": {
       "model_id": "74e89e9ec6474e93a4d42fdabc328752",
       "version_major": 2,
       "version_minor": 0
      },
      "text/plain": [
       "Output(layout=Layout(height='200px', width='80%'))"
      ]
     },
     "metadata": {},
     "output_type": "display_data"
    }
   ],
   "source": [
    "towav = Lang2Wav(\"facebook/mms-tts-eng\")\n",
    "towav.display(\"Hello, how are you today?\")"
   ]
  },
  {
   "cell_type": "code",
   "execution_count": 4,
   "id": "db45d927-140a-495f-9d7e-3dac9a94b001",
   "metadata": {},
   "outputs": [
    {
     "data": {
      "application/vnd.jupyter.widget-view+json": {
       "model_id": "d5e00c63679e49e18ae42a35bad4aa8e",
       "version_major": 2,
       "version_minor": 0
      },
      "text/plain": [
       "Textarea(value='VietAI là tổ chức phi lợi nhuận với sứ mệnh ươm mầm tài năng về trí tuệ nhân tạo và xây dựng m…"
      ]
     },
     "metadata": {},
     "output_type": "display_data"
    },
    {
     "data": {
      "application/vnd.jupyter.widget-view+json": {
       "model_id": "139f39bd7e5846e18cc93b49bacb3b34",
       "version_major": 2,
       "version_minor": 0
      },
      "text/plain": [
       "Button(description='Create Sound', style=ButtonStyle())"
      ]
     },
     "metadata": {},
     "output_type": "display_data"
    },
    {
     "data": {
      "application/vnd.jupyter.widget-view+json": {
       "model_id": "81c6eeb94bb34e4f9d9b1f79165e0d94",
       "version_major": 2,
       "version_minor": 0
      },
      "text/plain": [
       "Output(layout=Layout(height='200px', width='80%'))"
      ]
     },
     "metadata": {},
     "output_type": "display_data"
    }
   ],
   "source": [
    "towav = Lang2Wav(\"facebook/mms-tts-vie\")\n",
    "towav.display(\"VietAI là tổ chức phi lợi nhuận với sứ mệnh ươm mầm tài năng về trí tuệ nhân tạo và xây dựng một cộng đồng các chuyên gia trong lĩnh vực trí tuệ nhân tạo đẳng cấp quốc tế tại Việt Nam.\")"
   ]
  }
 ],
 "metadata": {
  "kernelspec": {
   "display_name": "Python 3 (ipykernel)",
   "language": "python",
   "name": "python3"
  },
  "language_info": {
   "codemirror_mode": {
    "name": "ipython",
    "version": 3
   },
   "file_extension": ".py",
   "mimetype": "text/x-python",
   "name": "python",
   "nbconvert_exporter": "python",
   "pygments_lexer": "ipython3",
   "version": "3.12.10"
  }
 },
 "nbformat": 4,
 "nbformat_minor": 5
}
