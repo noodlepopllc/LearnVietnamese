{
 "cells": [
  {
   "cell_type": "markdown",
   "id": "7fa1d6d6-c2de-473a-8ede-3215d5cbd60c",
   "metadata": {},
   "source": [
    "### Import libraries need and load all models"
   ]
  },
  {
   "cell_type": "code",
   "execution_count": 1,
   "id": "34cc2b5c-65d3-4fe6-9edc-80b2cbee195d",
   "metadata": {},
   "outputs": [],
   "source": [
    "import torch\n",
    "from transformers import AutoTokenizer, AutoModelForSeq2SeqLM\n",
    "import ipywidgets as widgets\n",
    "from ipywidgets import Layout\n"
   ]
  },
  {
   "cell_type": "code",
   "execution_count": 2,
   "id": "7a863d9a-974e-4a91-8413-adfe4e6368be",
   "metadata": {},
   "outputs": [],
   "source": [
    "class VietTranslate(object):\n",
    "    def __init__(self):\n",
    "        model_name = \"VietAI/envit5-translation\"\n",
    "        self.tokenizer = AutoTokenizer.from_pretrained(model_name)\n",
    "        self.model = AutoModelForSeq2SeqLM.from_pretrained(model_name).to('cuda')  \n",
    "\n",
    "    def display(self,description='',button_description='Translate',text=''):\n",
    "        self.textarea = widgets.Textarea(\n",
    "            value=text,\n",
    "            description= f'{description}:',\n",
    "            disabled=False,\n",
    "            layout=Layout(width='80%', height=\"100px\"))\n",
    "        self.output = widgets.Output(layout=Layout(width='80%', height='100px'))\n",
    "        self.button = widgets.Button(description=button_description)\n",
    "        self.button.on_click(self.button_pressed)\n",
    "        display(self.textarea,self.button,self.output)\n",
    "\n",
    "    def translate(self, t):\n",
    "        inputs = [x for x in t.split('\\n') if len(x) > 0]\n",
    "        outputs = self.model.generate(self.tokenizer(inputs, return_tensors=\"pt\", padding=True).input_ids.to('cuda'), max_length=512)\n",
    "        return [output for output in self.tokenizer.batch_decode(outputs, skip_special_tokens=True)]\n",
    "\n",
    "    def button_pressed(self, b):\n",
    "        self.output.clear_output()\n",
    "        with self.output:\n",
    "            for line in self.translate(self.textarea.value):\n",
    "                print(line)\n",
    "        "
   ]
  },
  {
   "cell_type": "markdown",
   "id": "a4aba4de-6141-49eb-a096-04467c0238ed",
   "metadata": {},
   "source": [
    "### Inputs\n",
    "Portion to be translated, vietnamese portion starts with vi: english starts with en: "
   ]
  },
  {
   "cell_type": "code",
   "execution_count": 3,
   "id": "013b623d-49f7-47dc-99ca-f87504a23f37",
   "metadata": {},
   "outputs": [
    {
     "data": {
      "application/vnd.jupyter.widget-view+json": {
       "model_id": "ea39825118e14ce4802b108ba4215da3",
       "version_major": 2,
       "version_minor": 0
      },
      "text/plain": [
       "Textarea(value='\\nvi: VietAI là tổ chức phi lợi nhuận với sứ mệnh ươm mầm tài năng về trí tuệ nhân tạo và xây …"
      ]
     },
     "metadata": {},
     "output_type": "display_data"
    },
    {
     "data": {
      "application/vnd.jupyter.widget-view+json": {
       "model_id": "3575caf2b40c4a02a9195085b0f9538a",
       "version_major": 2,
       "version_minor": 0
      },
      "text/plain": [
       "Button(description='English', style=ButtonStyle())"
      ]
     },
     "metadata": {},
     "output_type": "display_data"
    },
    {
     "data": {
      "application/vnd.jupyter.widget-view+json": {
       "model_id": "c8db5fd3a7e44b99a315af1a71da982a",
       "version_major": 2,
       "version_minor": 0
      },
      "text/plain": [
       "Output(layout=Layout(height='100px', width='80%'))"
      ]
     },
     "metadata": {},
     "output_type": "display_data"
    }
   ],
   "source": [
    "translator = VietTranslate()\n",
    "translator.display('Vietnamese','English',text='''\n",
    "vi: VietAI là tổ chức phi lợi nhuận với sứ mệnh ươm mầm tài năng về trí tuệ nhân tạo và xây dựng một cộng đồng các chuyên gia trong lĩnh vực trí tuệ nhân tạo đẳng cấp quốc tế tại Việt Nam.\n",
    "\n",
    "vi: Theo báo cáo mới nhất của Linkedin về danh sách việc làm triển vọng với mức lương hấp dẫn năm 2020, các chức danh công việc liên quan đến AI như Chuyên gia AI (Artificial Intelligence Specialist), Kỹ sư ML (Machine Learning Engineer) đều xếp thứ hạng cao.\n",
    "''')\n",
    "\n"
   ]
  },
  {
   "cell_type": "code",
   "execution_count": 4,
   "id": "b7b33b77-156c-41fc-9480-6d945eeb0562",
   "metadata": {},
   "outputs": [
    {
     "data": {
      "application/vnd.jupyter.widget-view+json": {
       "model_id": "24453723055e4384aa71546d52195928",
       "version_major": 2,
       "version_minor": 0
      },
      "text/plain": [
       "Textarea(value='\\nen: Our teams aspire to make discoveries that impact everyone, and core to our approach is s…"
      ]
     },
     "metadata": {},
     "output_type": "display_data"
    },
    {
     "data": {
      "application/vnd.jupyter.widget-view+json": {
       "model_id": "524b4d98c22a4694a90ea11ae840c639",
       "version_major": 2,
       "version_minor": 0
      },
      "text/plain": [
       "Button(description='Vietnamese', style=ButtonStyle())"
      ]
     },
     "metadata": {},
     "output_type": "display_data"
    },
    {
     "data": {
      "application/vnd.jupyter.widget-view+json": {
       "model_id": "810742353dbd427a981edff111d70dff",
       "version_major": 2,
       "version_minor": 0
      },
      "text/plain": [
       "Output(layout=Layout(height='100px', width='80%'))"
      ]
     },
     "metadata": {},
     "output_type": "display_data"
    }
   ],
   "source": [
    "translator2 = VietTranslate()\n",
    "translator2.display('English','Vietnamese',text= '''\n",
    "en: Our teams aspire to make discoveries that impact everyone, and core to our approach is sharing our research and tools to fuel progress in the field.\"\n",
    "\n",
    "en: We're on a journey to advance and democratize artificial intelligence through open source and open science.\n",
    "''')\n"
   ]
  }
 ],
 "metadata": {
  "kernelspec": {
   "display_name": "Python 3 (ipykernel)",
   "language": "python",
   "name": "python3"
  },
  "language_info": {
   "codemirror_mode": {
    "name": "ipython",
    "version": 3
   },
   "file_extension": ".py",
   "mimetype": "text/x-python",
   "name": "python",
   "nbconvert_exporter": "python",
   "pygments_lexer": "ipython3",
   "version": "3.12.10"
  }
 },
 "nbformat": 4,
 "nbformat_minor": 5
}
