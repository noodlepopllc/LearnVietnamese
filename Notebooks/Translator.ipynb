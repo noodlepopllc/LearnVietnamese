{
 "cells": [
  {
   "cell_type": "markdown",
   "id": "9dadc1d5-35a9-4658-b068-91db1f03c8ab",
   "metadata": {},
   "source": [
    "### Imports below, commented out, uncomment first time run them"
   ]
  },
  {
   "cell_type": "code",
   "execution_count": 1,
   "id": "94cfb757-7115-42ae-84c5-942b4ded0246",
   "metadata": {},
   "outputs": [
    {
     "name": "stdout",
     "output_type": "stream",
     "text": [
      "Requirement already satisfied: transformers in d:\\vietnamese\\.venv\\lib\\site-packages (4.56.1)\n",
      "Requirement already satisfied: filelock in d:\\vietnamese\\.venv\\lib\\site-packages (from transformers) (3.13.1)\n",
      "Requirement already satisfied: huggingface-hub<1.0,>=0.34.0 in d:\\vietnamese\\.venv\\lib\\site-packages (from transformers) (0.35.0)\n",
      "Requirement already satisfied: numpy>=1.17 in d:\\vietnamese\\.venv\\lib\\site-packages (from transformers) (2.1.2)\n",
      "Requirement already satisfied: packaging>=20.0 in d:\\vietnamese\\.venv\\lib\\site-packages (from transformers) (25.0)\n",
      "Requirement already satisfied: pyyaml>=5.1 in d:\\vietnamese\\.venv\\lib\\site-packages (from transformers) (6.0.2)\n",
      "Requirement already satisfied: regex!=2019.12.17 in d:\\vietnamese\\.venv\\lib\\site-packages (from transformers) (2025.9.18)\n",
      "Requirement already satisfied: requests in d:\\vietnamese\\.venv\\lib\\site-packages (from transformers) (2.32.5)\n",
      "Requirement already satisfied: tokenizers<=0.23.0,>=0.22.0 in d:\\vietnamese\\.venv\\lib\\site-packages (from transformers) (0.22.0)\n",
      "Requirement already satisfied: safetensors>=0.4.3 in d:\\vietnamese\\.venv\\lib\\site-packages (from transformers) (0.6.2)\n",
      "Requirement already satisfied: tqdm>=4.27 in d:\\vietnamese\\.venv\\lib\\site-packages (from transformers) (4.67.1)\n",
      "Requirement already satisfied: fsspec>=2023.5.0 in d:\\vietnamese\\.venv\\lib\\site-packages (from huggingface-hub<1.0,>=0.34.0->transformers) (2024.6.1)\n",
      "Requirement already satisfied: typing-extensions>=3.7.4.3 in d:\\vietnamese\\.venv\\lib\\site-packages (from huggingface-hub<1.0,>=0.34.0->transformers) (4.15.0)\n",
      "Requirement already satisfied: colorama in d:\\vietnamese\\.venv\\lib\\site-packages (from tqdm>=4.27->transformers) (0.4.6)\n",
      "Requirement already satisfied: charset_normalizer<4,>=2 in d:\\vietnamese\\.venv\\lib\\site-packages (from requests->transformers) (3.4.3)\n",
      "Requirement already satisfied: idna<4,>=2.5 in d:\\vietnamese\\.venv\\lib\\site-packages (from requests->transformers) (3.10)\n",
      "Requirement already satisfied: urllib3<3,>=1.21.1 in d:\\vietnamese\\.venv\\lib\\site-packages (from requests->transformers) (2.5.0)\n",
      "Requirement already satisfied: certifi>=2017.4.17 in d:\\vietnamese\\.venv\\lib\\site-packages (from requests->transformers) (2025.8.3)\n"
     ]
    }
   ],
   "source": [
    "!pip install transformers"
   ]
  },
  {
   "cell_type": "markdown",
   "id": "7fa1d6d6-c2de-473a-8ede-3215d5cbd60c",
   "metadata": {},
   "source": [
    "### Import libraries need and load all models"
   ]
  },
  {
   "cell_type": "code",
   "execution_count": 2,
   "id": "34cc2b5c-65d3-4fe6-9edc-80b2cbee195d",
   "metadata": {},
   "outputs": [],
   "source": [
    "import torch\n",
    "from transformers import AutoTokenizer, AutoModelForSeq2SeqLM\n",
    "import ipywidgets as widgets\n",
    "from ipywidgets import Layout\n"
   ]
  },
  {
   "cell_type": "code",
   "execution_count": 3,
   "id": "7a863d9a-974e-4a91-8413-adfe4e6368be",
   "metadata": {},
   "outputs": [],
   "source": [
    "class VietTranslate(object):\n",
    "    def __init__(self):\n",
    "        model_name = \"VietAI/envit5-translation\"\n",
    "        self.tokenizer = AutoTokenizer.from_pretrained(model_name)\n",
    "        self.model = AutoModelForSeq2SeqLM.from_pretrained(model_name).to('cuda')  \n",
    "\n",
    "    def display(self,description='',button_description='Translate',text=''):\n",
    "        self.textarea = widgets.Textarea(\n",
    "            value=text,\n",
    "            description= f'{description}:',\n",
    "            disabled=False,\n",
    "            layout=Layout(width='80%', height=\"100px\"))\n",
    "        self.output = widgets.Output(layout=Layout(width='80%', height='100px'))\n",
    "        self.button = widgets.Button(description=button_description)\n",
    "        self.button.on_click(self.button_pressed)\n",
    "        display(self.textarea,self.button,self.output)\n",
    "\n",
    "    def translate(self, t):\n",
    "        inputs = [x for x in t.split('\\n') if len(x) > 0]\n",
    "        outputs = self.model.generate(self.tokenizer(inputs, return_tensors=\"pt\", padding=True).input_ids.to('cuda'), max_length=512)\n",
    "        return [output for output in self.tokenizer.batch_decode(outputs, skip_special_tokens=True)]\n",
    "\n",
    "    def button_pressed(self, b):\n",
    "        self.output.clear_output()\n",
    "        with self.output:\n",
    "            for line in self.translate(self.textarea.value):\n",
    "                print(line)\n",
    "        "
   ]
  },
  {
   "cell_type": "markdown",
   "id": "a4aba4de-6141-49eb-a096-04467c0238ed",
   "metadata": {},
   "source": [
    "### Inputs\n",
    "Portion to be translated, vietnamese portion starts with vi: english starts with en: "
   ]
  },
  {
   "cell_type": "code",
   "execution_count": 4,
   "id": "013b623d-49f7-47dc-99ca-f87504a23f37",
   "metadata": {},
   "outputs": [
    {
     "data": {
      "application/vnd.jupyter.widget-view+json": {
       "model_id": "2404fd3878504da790b13964207dfabd",
       "version_major": 2,
       "version_minor": 0
      },
      "text/plain": [
       "tokenizer_config.json: 0.00B [00:00, ?B/s]"
      ]
     },
     "metadata": {},
     "output_type": "display_data"
    },
    {
     "name": "stderr",
     "output_type": "stream",
     "text": [
      "Xet Storage is enabled for this repo, but the 'hf_xet' package is not installed. Falling back to regular HTTP download. For better performance, install the package with: `pip install huggingface_hub[hf_xet]` or `pip install hf_xet`\n"
     ]
    },
    {
     "data": {
      "application/vnd.jupyter.widget-view+json": {
       "model_id": "b592c09b0bed4421aa152a9be3193a9e",
       "version_major": 2,
       "version_minor": 0
      },
      "text/plain": [
       "spiece.model:   0%|          | 0.00/1.10M [00:00<?, ?B/s]"
      ]
     },
     "metadata": {},
     "output_type": "display_data"
    },
    {
     "data": {
      "application/vnd.jupyter.widget-view+json": {
       "model_id": "206101a2230a4119aee59f5b29efb101",
       "version_major": 2,
       "version_minor": 0
      },
      "text/plain": [
       "tokenizer.json: 0.00B [00:00, ?B/s]"
      ]
     },
     "metadata": {},
     "output_type": "display_data"
    },
    {
     "data": {
      "application/vnd.jupyter.widget-view+json": {
       "model_id": "4d368c1cadaf452390da1a5e8bc877f5",
       "version_major": 2,
       "version_minor": 0
      },
      "text/plain": [
       "special_tokens_map.json: 0.00B [00:00, ?B/s]"
      ]
     },
     "metadata": {},
     "output_type": "display_data"
    },
    {
     "data": {
      "application/vnd.jupyter.widget-view+json": {
       "model_id": "2d2d29a36ccb4cfd8fceebee3db053ed",
       "version_major": 2,
       "version_minor": 0
      },
      "text/plain": [
       "config.json:   0%|          | 0.00/721 [00:00<?, ?B/s]"
      ]
     },
     "metadata": {},
     "output_type": "display_data"
    },
    {
     "name": "stderr",
     "output_type": "stream",
     "text": [
      "Xet Storage is enabled for this repo, but the 'hf_xet' package is not installed. Falling back to regular HTTP download. For better performance, install the package with: `pip install huggingface_hub[hf_xet]` or `pip install hf_xet`\n"
     ]
    },
    {
     "data": {
      "application/vnd.jupyter.widget-view+json": {
       "model_id": "f11c3761315f43098be473df56753be9",
       "version_major": 2,
       "version_minor": 0
      },
      "text/plain": [
       "pytorch_model.bin:   0%|          | 0.00/1.10G [00:00<?, ?B/s]"
      ]
     },
     "metadata": {},
     "output_type": "display_data"
    },
    {
     "data": {
      "application/vnd.jupyter.widget-view+json": {
       "model_id": "984aafbf96f3464c8b17c5f64304da80",
       "version_major": 2,
       "version_minor": 0
      },
      "text/plain": [
       "Textarea(value='\\nvi: VietAI là tổ chức phi lợi nhuận với sứ mệnh ươm mầm tài năng về trí tuệ nhân tạo và xây …"
      ]
     },
     "metadata": {},
     "output_type": "display_data"
    },
    {
     "data": {
      "application/vnd.jupyter.widget-view+json": {
       "model_id": "050a10bc8c974728a890d1abf237dd55",
       "version_major": 2,
       "version_minor": 0
      },
      "text/plain": [
       "Button(description='English', style=ButtonStyle())"
      ]
     },
     "metadata": {},
     "output_type": "display_data"
    },
    {
     "data": {
      "application/vnd.jupyter.widget-view+json": {
       "model_id": "e4d0c0c9eb0b40c9aec6627809a3c520",
       "version_major": 2,
       "version_minor": 0
      },
      "text/plain": [
       "Output(layout=Layout(height='100px', width='80%'))"
      ]
     },
     "metadata": {},
     "output_type": "display_data"
    },
    {
     "name": "stderr",
     "output_type": "stream",
     "text": [
      "Xet Storage is enabled for this repo, but the 'hf_xet' package is not installed. Falling back to regular HTTP download. For better performance, install the package with: `pip install huggingface_hub[hf_xet]` or `pip install hf_xet`\n"
     ]
    }
   ],
   "source": [
    "translator = VietTranslate()\n",
    "translator.display('Vietnamese','English',text='''\n",
    "vi: VietAI là tổ chức phi lợi nhuận với sứ mệnh ươm mầm tài năng về trí tuệ nhân tạo và xây dựng một cộng đồng các chuyên gia trong lĩnh vực trí tuệ nhân tạo đẳng cấp quốc tế tại Việt Nam.\n",
    "\n",
    "vi: Theo báo cáo mới nhất của Linkedin về danh sách việc làm triển vọng với mức lương hấp dẫn năm 2020, các chức danh công việc liên quan đến AI như Chuyên gia AI (Artificial Intelligence Specialist), Kỹ sư ML (Machine Learning Engineer) đều xếp thứ hạng cao.\n",
    "''')\n",
    "\n"
   ]
  },
  {
   "cell_type": "code",
   "execution_count": 5,
   "id": "b7b33b77-156c-41fc-9480-6d945eeb0562",
   "metadata": {},
   "outputs": [
    {
     "data": {
      "application/vnd.jupyter.widget-view+json": {
       "model_id": "9aaffdc9cc1a49fa899a5a7ff5364536",
       "version_major": 2,
       "version_minor": 0
      },
      "text/plain": [
       "Textarea(value='\\nen: Our teams aspire to make discoveries that impact everyone, and core to our approach is s…"
      ]
     },
     "metadata": {},
     "output_type": "display_data"
    },
    {
     "data": {
      "application/vnd.jupyter.widget-view+json": {
       "model_id": "92518d903186449785fdec0664bb4a7a",
       "version_major": 2,
       "version_minor": 0
      },
      "text/plain": [
       "Button(description='Vietnamese', style=ButtonStyle())"
      ]
     },
     "metadata": {},
     "output_type": "display_data"
    },
    {
     "data": {
      "application/vnd.jupyter.widget-view+json": {
       "model_id": "419efc35fbe44f4291768fbb75d76b89",
       "version_major": 2,
       "version_minor": 0
      },
      "text/plain": [
       "Output(layout=Layout(height='100px', width='80%'))"
      ]
     },
     "metadata": {},
     "output_type": "display_data"
    }
   ],
   "source": [
    "translator2 = VietTranslate()\n",
    "translator2.display('English','Vietnamese',text= '''\n",
    "en: Our teams aspire to make discoveries that impact everyone, and core to our approach is sharing our research and tools to fuel progress in the field.\"\n",
    "\n",
    "en: We're on a journey to advance and democratize artificial intelligence through open source and open science.\n",
    "''')\n"
   ]
  },
  {
   "cell_type": "code",
   "execution_count": null,
   "id": "71dbe524-826d-4595-92f4-b2b80a447a66",
   "metadata": {},
   "outputs": [],
   "source": []
  }
 ],
 "metadata": {
  "kernelspec": {
   "display_name": "Python 3 (ipykernel)",
   "language": "python",
   "name": "python3"
  },
  "language_info": {
   "codemirror_mode": {
    "name": "ipython",
    "version": 3
   },
   "file_extension": ".py",
   "mimetype": "text/x-python",
   "name": "python",
   "nbconvert_exporter": "python",
   "pygments_lexer": "ipython3",
   "version": "3.12.10"
  }
 },
 "nbformat": 4,
 "nbformat_minor": 5
}
