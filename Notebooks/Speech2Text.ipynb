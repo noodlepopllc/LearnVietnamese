{
 "cells": [
  {
   "cell_type": "code",
   "execution_count": 6,
   "id": "933df67c-0299-4516-afa2-41b05bd07ad6",
   "metadata": {},
   "outputs": [],
   "source": [
    "#%pip install ipyfilechooser\n",
    "#%pip install -U openai-whisper"
   ]
  },
  {
   "cell_type": "code",
   "execution_count": 7,
   "id": "49bfdcde-8c1d-413b-9ea1-fb829dd9b1c7",
   "metadata": {},
   "outputs": [
    {
     "data": {
      "application/vnd.jupyter.widget-view+json": {
       "model_id": "b246bfbe6f4f4771ac792478d8b3f323",
       "version_major": 2,
       "version_minor": 0
      },
      "text/plain": [
       "FileChooser(path='D:\\vietnamese', filename='', title='', show_hidden=False, select_desc='Select', change_desc=…"
      ]
     },
     "metadata": {},
     "output_type": "display_data"
    }
   ],
   "source": [
    "from ipyfilechooser import FileChooser\n",
    "fc = FileChooser()\n",
    "fc.filter_pattern = '*.wav'\n",
    "display(fc)"
   ]
  },
  {
   "cell_type": "code",
   "execution_count": 11,
   "id": "eb06975e-3e85-44ba-9a52-7182b5e6f684",
   "metadata": {},
   "outputs": [],
   "source": [
    "import whisper"
   ]
  },
  {
   "cell_type": "code",
   "execution_count": 12,
   "id": "31d845d6-2657-4df1-a378-902d6bc8f3cc",
   "metadata": {},
   "outputs": [
    {
     "name": "stdout",
     "output_type": "stream",
     "text": [
      " giống của chúng tôi khao khát tạo ra những khám phá có ảnh hưởng đến mọi người và cốt lõi đối với phương pháp tiếp cận của chúng tôi là chia sẻ nghiên cứu và công cụ của chúng tôi để thúc đẩy sự tiến bộ trong lĩnh vực này.\n"
     ]
    }
   ],
   "source": [
    "model = whisper.load_model(\"turbo\")\n",
    "if fc.selected:\n",
    "    result = model.transcribe(fc.selected)\n",
    "    print(result[\"text\"])"
   ]
  },
  {
   "cell_type": "code",
   "execution_count": 13,
   "id": "96fb7c78-15a1-46ef-a81c-91eab3258772",
   "metadata": {},
   "outputs": [
    {
     "data": {
      "application/vnd.jupyter.widget-view+json": {
       "model_id": "6a9be5beabd847b98e69eab635999e34",
       "version_major": 2,
       "version_minor": 0
      },
      "text/plain": [
       "Fetching 1 files:   0%|          | 0/1 [00:00<?, ?it/s]"
      ]
     },
     "metadata": {},
     "output_type": "display_data"
    },
    {
     "name": "stderr",
     "output_type": "stream",
     "text": [
      "Device set to use cuda:0\n",
      "`return_token_timestamps` is deprecated for WhisperFeatureExtractor and will be removed in Transformers v5. Use `return_attention_mask` instead, as the number of frames can be inferred from it.\n",
      "Using custom `forced_decoder_ids` from the (generation) config. This is deprecated in favor of the `task` and `language` flags/config options.\n",
      "Transcription using a multilingual Whisper will default to language detection followed by transcription instead of translation to English. This might be a breaking change for your use case. If you want to instead always translate your audio to English, make sure to pass `language='en'`. See https://github.com/huggingface/transformers/pull/28687 for more details.\n"
     ]
    },
    {
     "name": "stdout",
     "output_type": "stream",
     "text": [
      " giống của chúng tôi khao khát tạo ra những khám phá có ảnh hưởng đến mọi người và cốt lõi đối với phương pháp tiếp cận của chúng tôi là chia sẻ nghiên cứu và công cụ của chúng tôi để thúc đẩy sự tiến bộ trong lĩnh vực này.\n"
     ]
    }
   ],
   "source": [
    "from transformers import pipeline\n",
    "if fc.selected:\n",
    "    transcriber = pipeline(\"automatic-speech-recognition\", model=\"openai/whisper-large-v3-turbo\")\n",
    "    output = transcriber(fc.selected)['text']\n",
    "    print(output)"
   ]
  },
  {
   "cell_type": "code",
   "execution_count": null,
   "id": "fb24d82f-86e6-4ccc-99ae-15a733d0cc3c",
   "metadata": {},
   "outputs": [],
   "source": []
  }
 ],
 "metadata": {
  "kernelspec": {
   "display_name": "Python 3 (ipykernel)",
   "language": "python",
   "name": "python3"
  },
  "language_info": {
   "codemirror_mode": {
    "name": "ipython",
    "version": 3
   },
   "file_extension": ".py",
   "mimetype": "text/x-python",
   "name": "python",
   "nbconvert_exporter": "python",
   "pygments_lexer": "ipython3",
   "version": "3.12.10"
  }
 },
 "nbformat": 4,
 "nbformat_minor": 5
}
