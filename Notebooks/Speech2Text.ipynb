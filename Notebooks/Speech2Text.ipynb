{
 "cells": [
  {
   "cell_type": "code",
   "execution_count": 1,
   "id": "49bfdcde-8c1d-413b-9ea1-fb829dd9b1c7",
   "metadata": {},
   "outputs": [
    {
     "data": {
      "application/vnd.jupyter.widget-view+json": {
       "model_id": "637c579c72574df1951a1046b7a39799",
       "version_major": 2,
       "version_minor": 0
      },
      "text/plain": [
       "FileChooser(path='C:\\Users\\drift\\src\\LearnVietnamese\\Notebooks\\audio', filename='', title='', show_hidden=Fals…"
      ]
     },
     "metadata": {},
     "output_type": "display_data"
    }
   ],
   "source": [
    "from ipyfilechooser import FileChooser\n",
    "fc = FileChooser('./audio/')\n",
    "fc.filter_pattern = '*.wav'\n",
    "display(fc)"
   ]
  },
  {
   "cell_type": "code",
   "execution_count": 2,
   "id": "eb06975e-3e85-44ba-9a52-7182b5e6f684",
   "metadata": {},
   "outputs": [],
   "source": [
    "import whisper"
   ]
  },
  {
   "cell_type": "code",
   "execution_count": 3,
   "id": "31d845d6-2657-4df1-a378-902d6bc8f3cc",
   "metadata": {},
   "outputs": [],
   "source": [
    "model = whisper.load_model(\"turbo\")\n",
    "if fc.selected:\n",
    "    result = model.transcribe(fc.selected)\n",
    "    print(result[\"text\"])"
   ]
  },
  {
   "cell_type": "code",
   "execution_count": 4,
   "id": "96fb7c78-15a1-46ef-a81c-91eab3258772",
   "metadata": {},
   "outputs": [],
   "source": [
    "from transformers import pipeline\n",
    "if fc.selected:\n",
    "    transcriber = pipeline(\"automatic-speech-recognition\", model=\"openai/whisper-large-v3-turbo\")\n",
    "    output = transcriber(fc.selected)['text']\n",
    "    print(output)"
   ]
  },
  {
   "cell_type": "code",
   "execution_count": 5,
   "id": "2fc8ff03-67b6-4e7a-b42f-2f48590ae703",
   "metadata": {},
   "outputs": [
    {
     "data": {
      "application/vnd.jupyter.widget-view+json": {
       "model_id": "25788296bbfa412b95fd1239c827f7d5",
       "version_major": 2,
       "version_minor": 0
      },
      "text/plain": [
       "FileUpload(value=(), accept='.wav', description='Upload')"
      ]
     },
     "metadata": {},
     "output_type": "display_data"
    }
   ],
   "source": [
    "from ipywidgets import widgets\n",
    "upload = widgets.FileUpload(\n",
    "    accept='.wav',  # Accepted file extension e.g. '.txt', '.pdf', 'image/*', 'image/*,.pdf'\n",
    "    multiple=False  # True to accept multiple files upload else False\n",
    ")\n",
    "display(upload)"
   ]
  },
  {
   "cell_type": "code",
   "execution_count": 6,
   "id": "71358573-5420-4efc-97b4-253ad7b05e52",
   "metadata": {},
   "outputs": [],
   "source": [
    "for uploaded in upload.value:\n",
    "    content = uploaded['content'] \n",
    "    with open(f'./audio/{uploaded[\"name\"]}','wb') as output_file:\n",
    "        output_file.write(content) "
   ]
  }
 ],
 "metadata": {
  "kernelspec": {
   "display_name": "Python 3 (ipykernel)",
   "language": "python",
   "name": "python3"
  },
  "language_info": {
   "codemirror_mode": {
    "name": "ipython",
    "version": 3
   },
   "file_extension": ".py",
   "mimetype": "text/x-python",
   "name": "python",
   "nbconvert_exporter": "python",
   "pygments_lexer": "ipython3",
   "version": "3.12.10"
  }
 },
 "nbformat": 4,
 "nbformat_minor": 5
}
