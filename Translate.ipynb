{
  "nbformat": 4,
  "nbformat_minor": 0,
  "metadata": {
    "colab": {
      "provenance": [],
      "authorship_tag": "ABX9TyNHSCRDwzbrWcTzaxJjYWUm",
      "include_colab_link": true
    },
    "kernelspec": {
      "name": "python3",
      "display_name": "Python 3"
    },
    "language_info": {
      "name": "python"
    }
  },
  "cells": [
    {
      "cell_type": "markdown",
      "metadata": {
        "id": "view-in-github",
        "colab_type": "text"
      },
      "source": [
        "<a href=\"https://colab.research.google.com/github/noodlepopllc/LearnVietnamese/blob/main/Translate.ipynb\" target=\"_parent\"><img src=\"https://colab.research.google.com/assets/colab-badge.svg\" alt=\"Open In Colab\"/></a>"
      ]
    },
    {
      "cell_type": "code",
      "execution_count": null,
      "metadata": {
        "id": "JDhlHQGI2DHa"
      },
      "outputs": [],
      "source": [
        "import torch\n",
        "from transformers import AutoTokenizer, AutoModelForSeq2SeqLM"
      ]
    },
    {
      "cell_type": "code",
      "source": [
        "device = \"cuda:0\" if torch.cuda.is_available() else \"cpu\"\n",
        "print(device)"
      ],
      "metadata": {
        "colab": {
          "base_uri": "https://localhost:8080/"
        },
        "id": "TqvOqWW87jto",
        "outputId": "c9e066f5-52b9-40b5-a7c1-cf26efc90f61"
      },
      "execution_count": null,
      "outputs": [
        {
          "output_type": "stream",
          "name": "stdout",
          "text": [
            "cpu\n"
          ]
        }
      ]
    },
    {
      "cell_type": "code",
      "source": [
        "model_name = \"VietAI/envit5-translation\"\n",
        "tokenizer = AutoTokenizer.from_pretrained(model_name)\n",
        "model = AutoModelForSeq2SeqLM.from_pretrained(model_name).to(device)"
      ],
      "metadata": {
        "id": "kIfN02fL747N"
      },
      "execution_count": null,
      "outputs": []
    },
    {
      "cell_type": "code",
      "source": [
        "inputs = ['vi: Xin chào thế giới']\n",
        "outputs = model.generate(tokenizer(inputs, return_tensors=\"pt\", padding=True).input_ids.to(device), max_length=512)\n",
        "print([output for output in tokenizer.batch_decode(outputs, skip_special_tokens=True)])"
      ],
      "metadata": {
        "colab": {
          "base_uri": "https://localhost:8080/"
        },
        "id": "uLOXUD11_mH3",
        "outputId": "fb2ef532-5e3b-428d-e1f3-b4c06693dd27"
      },
      "execution_count": null,
      "outputs": [
        {
          "output_type": "stream",
          "name": "stdout",
          "text": [
            "['en: Hello world']\n"
          ]
        }
      ]
    },
    {
      "cell_type": "code",
      "source": [
        "inputs = [\"en: Hello world\"]\n",
        "outputs = model.generate(tokenizer(inputs, return_tensors=\"pt\", padding=True).input_ids.to(device), max_length=512)\n",
        "print([output for output in tokenizer.batch_decode(outputs, skip_special_tokens=True)])"
      ],
      "metadata": {
        "colab": {
          "base_uri": "https://localhost:8080/"
        },
        "id": "qzohd8T1_W7A",
        "outputId": "fab89782-32ba-4b04-ce45-1e62c312a544"
      },
      "execution_count": null,
      "outputs": [
        {
          "output_type": "stream",
          "name": "stdout",
          "text": [
            "['vi: Xin chào thế giới']\n"
          ]
        }
      ]
    }
  ]
}